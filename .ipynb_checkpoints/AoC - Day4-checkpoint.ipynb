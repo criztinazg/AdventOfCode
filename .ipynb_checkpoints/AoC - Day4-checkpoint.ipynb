{
 "cells": [
  {
   "cell_type": "code",
   "execution_count": 123,
   "metadata": {},
   "outputs": [],
   "source": [
    "import pandas as pd\n",
    "import json \n",
    "\n",
    "# reading the data from the file \n",
    "with open(\"E:\\\\Cristina\\\\5_GitHub\\\\AdventOfCode\\\\Day4 - Input.txt\") as f: \n",
    "    data = f.read()\n",
    "    data = data[0:data.rfind(\"\\n\")] if data.endswith(\"\\n\") else data\n",
    "    data = [j.split(\"\\n\") for j in data.replace(\"\\r\", \"\").replace(\" \", \"\\n\").split(\"\\n\\n\")]\n",
    "\n",
    "passports = {}\n",
    "z = 0\n",
    "\n",
    "for i in data:\n",
    "    passports[z] = dict(sorted(dict((x.strip(), y.strip()) for x, y in (j.split(':') for j in i)).items()))\n",
    "    z += 1"
   ]
  },
  {
   "cell_type": "code",
   "execution_count": 124,
   "metadata": {},
   "outputs": [
    {
     "name": "stdout",
     "output_type": "stream",
     "text": [
      "260\n"
     ]
    }
   ],
   "source": [
    "#Count the number of valid passports - those that have all required fields. Treat cid as optional. In your batch file, \n",
    "#how many passports are valid?\n",
    "count = 0\n",
    "\n",
    "for p in passports:\n",
    "    if (len(passports[p]) == 8) or (len(passports[p]) == 7 and \"cid\" not in list(passports[p].keys())):\n",
    "        count += 1\n",
    "        \n",
    "print(count)"
   ]
  },
  {
   "cell_type": "code",
   "execution_count": 127,
   "metadata": {},
   "outputs": [
    {
     "name": "stdout",
     "output_type": "stream",
     "text": [
      "153\n"
     ]
    }
   ],
   "source": [
    "#You can continue to ignore the cid field, but each other field has strict rules about what values are valid for \n",
    "#automatic validation:\n",
    "\n",
    "#byr (Birth Year) - four digits; at least 1920 and at most 2002.\n",
    "#iyr (Issue Year) - four digits; at least 2010 and at most 2020.\n",
    "#eyr (Expiration Year) - four digits; at least 2020 and at most 2030.\n",
    "#hgt (Height) - a number followed by either cm or in:\n",
    "#If cm, the number must be at least 150 and at most 193.\n",
    "#If in, the number must be at least 59 and at most 76.\n",
    "#hcl (Hair Color) - a # followed by exactly six characters 0-9 or a-f.\n",
    "#ecl (Eye Color) - exactly one of: amb blu brn gry grn hzl oth.\n",
    "#pid (Passport ID) - a nine-digit number, including leading zeroes.\n",
    "#cid (Country ID) - ignored, missing or not.\n",
    "import re\n",
    "\n",
    "count = 0\n",
    "\n",
    "for p in passports: \n",
    "    byr = 0\n",
    "    iyr = 0\n",
    "    eyr = 0\n",
    "    hgt = 0\n",
    "    hcl = 0\n",
    "    ecl = 0\n",
    "    pid = 0\n",
    "    \n",
    "    if (len(passports[p]) == 8) or (len(passports[p]) == 7 and \"cid\" not in list(passports[p].keys())):\n",
    "                  \n",
    "        byr = 1 if 1920 <= int(passports[p][\"byr\"]) <= 2002 else 0\n",
    "        iyr = 1 if 2010 <= int(passports[p][\"iyr\"]) <= 2020 else 0\n",
    "        eyr = 1 if 2020 <= int(passports[p][\"eyr\"]) <= 2030 else 0\n",
    "        \n",
    "        if passports[p][\"hgt\"].find(\"cm\") >= 0:\n",
    "            hgt = 1 if 150 <= int(passports[p][\"hgt\"].replace(\"cm\",\"\")) <= 193 else 0\n",
    "        elif passports[p][\"hgt\"].find(\"in\") >= 0:\n",
    "            hgt = 1 if 59 <= int(passports[p][\"hgt\"].replace(\"in\",\"\")) <= 76 else 0\n",
    "        \n",
    "        hcl = 1 if re.fullmatch(\"#[0-9a-f]{6}\",passports[p][\"hcl\"]) else 0 \n",
    "        ecl = 1 if passports[p][\"ecl\"] in [\"amb\", \"blu\", \"brn\", \"gry\", \"grn\", \"hzl\", \"oth\"] else 0\n",
    "        pid = 1 if re.fullmatch(\"[0-9]{9}\",passports[p][\"pid\"]) else 0 \n",
    "\n",
    "        if byr + iyr + eyr + hgt + hcl + ecl + pid == 7:\n",
    "            count += 1\n",
    "\n",
    "print(count)"
   ]
  },
  {
   "cell_type": "code",
   "execution_count": null,
   "metadata": {},
   "outputs": [],
   "source": []
  }
 ],
 "metadata": {
  "kernelspec": {
   "display_name": "Python 3",
   "language": "python",
   "name": "python3"
  },
  "language_info": {
   "codemirror_mode": {
    "name": "ipython",
    "version": 3
   },
   "file_extension": ".py",
   "mimetype": "text/x-python",
   "name": "python",
   "nbconvert_exporter": "python",
   "pygments_lexer": "ipython3",
   "version": "3.8.3"
  }
 },
 "nbformat": 4,
 "nbformat_minor": 4
}

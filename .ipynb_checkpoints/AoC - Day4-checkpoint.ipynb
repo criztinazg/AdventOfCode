{
 "cells": [
  {
   "cell_type": "code",
   "execution_count": 31,
   "metadata": {},
   "outputs": [],
   "source": [
    "import pandas as pd\n",
    "import json \n",
    "\n",
    "# reading the data from the file \n",
    "with open(\"E:\\\\Cristina\\\\5_GitHub\\\\AdventOfCode\\\\Day4 - input.txt\") as f: \n",
    "    data = f.read() \n",
    "\n",
    "data = data[0:data.rfind(\"\\n\")] if data.endswith(\"\\n\") else data\n",
    "    \n",
    "cleaning = data.split(\"\\n\\n\")\n",
    "cleaning = [i.replace(\"\\n\",\" \") for i in cleaning]\n",
    "cleaning = [i.replace(\" \",\",\") for i in cleaning]\n",
    "   \n",
    "items = [item.split(',') for item in cleaning]\n",
    "\n",
    "passports = {}\n",
    "z = 0\n",
    "\n",
    "for i in items:\n",
    "    item = dict((x.strip(), y.strip()) for x, y in ( j.split(':') for j in i ) )\n",
    "    passports[z] = item\n",
    "    z += 1\n",
    "    "
   ]
  },
  {
   "cell_type": "code",
   "execution_count": 60,
   "metadata": {},
   "outputs": [
    {
     "name": "stdout",
     "output_type": "stream",
     "text": [
      "260\n"
     ]
    }
   ],
   "source": [
    "#Count the number of valid passports - those that have all required fields. Treat cid as optional. In your batch file, \n",
    "#how many passports are valid?\n",
    "\n",
    "count = 0\n",
    "\n",
    "for p in passports:\n",
    "    if (len(passports[p]) == 8) or (len(passports[p]) == 7 and \"cid\" not in list(passports[p].keys())):\n",
    "        count += 1\n",
    "        \n",
    "print(count)"
   ]
  },
  {
   "cell_type": "code",
   "execution_count": 58,
   "metadata": {},
   "outputs": [
    {
     "data": {
      "text/plain": [
       "260"
      ]
     },
     "execution_count": 58,
     "metadata": {},
     "output_type": "execute_result"
    }
   ],
   "source": [
    "#You can continue to ignore the cid field, but each other field has strict rules about what values are valid for automatic validation:\n",
    "\n",
    "#byr (Birth Year) - four digits; at least 1920 and at most 2002.\n",
    "#iyr (Issue Year) - four digits; at least 2010 and at most 2020.\n",
    "#eyr (Expiration Year) - four digits; at least 2020 and at most 2030.\n",
    "#hgt (Height) - a number followed by either cm or in:\n",
    "#If cm, the number must be at least 150 and at most 193.\n",
    "#If in, the number must be at least 59 and at most 76.\n",
    "#hcl (Hair Color) - a # followed by exactly six characters 0-9 or a-f.\n",
    "#ecl (Eye Color) - exactly one of: amb blu brn gry grn hzl oth.\n",
    "#pid (Passport ID) - a nine-digit number, including leading zeroes.\n",
    "#cid (Country ID) - ignored, missing or not.\n",
    "\n",
    "count = 0\n",
    "\n",
    "for p in passports:\n",
    "    if (len(passports[p]) == 8) or (len(passports[p]) == 7 and \"cid\" not in list(passports[p].keys())):\n",
    "        count += 1\n",
    "        \n",
    "print(count)"
   ]
  },
  {
   "cell_type": "code",
   "execution_count": null,
   "metadata": {},
   "outputs": [],
   "source": []
  }
 ],
 "metadata": {
  "kernelspec": {
   "display_name": "Python 3",
   "language": "python",
   "name": "python3"
  },
  "language_info": {
   "codemirror_mode": {
    "name": "ipython",
    "version": 3
   },
   "file_extension": ".py",
   "mimetype": "text/x-python",
   "name": "python",
   "nbconvert_exporter": "python",
   "pygments_lexer": "ipython3",
   "version": "3.8.3"
  }
 },
 "nbformat": 4,
 "nbformat_minor": 4
}

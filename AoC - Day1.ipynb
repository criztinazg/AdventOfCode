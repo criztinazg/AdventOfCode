{
 "cells": [
  {
   "cell_type": "code",
   "execution_count": 35,
   "metadata": {},
   "outputs": [],
   "source": [
    "import pandas as pd\n",
    "\n",
    "result = pd.read_csv(\"E:\\GitHub\\AdventOfCode\\Day1 - input.txt\", sep=\"\\s+\", header=None, names = [\"Value\"])\n",
    "\n",
    "value1 = 0\n",
    "value2 = 0\n",
    "value3 = 0"
   ]
  },
  {
   "cell_type": "code",
   "execution_count": 31,
   "metadata": {},
   "outputs": [],
   "source": [
    "# Two numbers that added sum up 2020\n",
    "for i in range(0, len(result) - 2):\n",
    "    if i <= len(result) - 2:\n",
    "        for j in range (i + 1, len(result) - 1):\n",
    "            if result.values[i] + result.values[j] == 2020:\n",
    "                value1 = result.values[i]\n",
    "                value2 = result.values[j]"
   ]
  },
  {
   "cell_type": "code",
   "execution_count": 32,
   "metadata": {},
   "outputs": [
    {
     "name": "stdout",
     "output_type": "stream",
     "text": [
      "[1535]\n",
      "[485]\n"
     ]
    }
   ],
   "source": [
    "print(value1)\n",
    "print(value2)"
   ]
  },
  {
   "cell_type": "code",
   "execution_count": 33,
   "metadata": {},
   "outputs": [],
   "source": [
    "# Three numbers that added sum up 2020\n",
    "for i in range(0, len(result) - 3):\n",
    "    if i <= len(result) - 3:\n",
    "        for j in range (i + 1, len(result) - 2):\n",
    "            if j <= len(result) - 2:\n",
    "                for k in range (i + 2, len(result) - 1):\n",
    "                    if result.values[i] + result.values[j] + result.values[k] == 2020:\n",
    "                        value1 = result.values[i]\n",
    "                        value2 = result.values[j]\n",
    "                        value3 = result.values[k]"
   ]
  },
  {
   "cell_type": "code",
   "execution_count": 34,
   "metadata": {},
   "outputs": [
    {
     "name": "stdout",
     "output_type": "stream",
     "text": [
      "[265]\n",
      "[1588]\n",
      "[167]\n"
     ]
    }
   ],
   "source": [
    "print(value1)\n",
    "print(value2)\n",
    "print(value3)"
   ]
  }
 ],
 "metadata": {
  "kernelspec": {
   "display_name": "Python 3",
   "language": "python",
   "name": "python3"
  },
  "language_info": {
   "codemirror_mode": {
    "name": "ipython",
    "version": 3
   },
   "file_extension": ".py",
   "mimetype": "text/x-python",
   "name": "python",
   "nbconvert_exporter": "python",
   "pygments_lexer": "ipython3",
   "version": "3.8.3"
  }
 },
 "nbformat": 4,
 "nbformat_minor": 4
}

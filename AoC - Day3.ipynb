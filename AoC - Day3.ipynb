{
 "cells": [
  {
   "cell_type": "code",
   "execution_count": 152,
   "metadata": {},
   "outputs": [
    {
     "name": "stdout",
     "output_type": "stream",
     "text": [
      "4649\n",
      "322\n"
     ]
    }
   ],
   "source": [
    "import pandas as pd\n",
    "\n",
    "result = pd.read_csv(\"E:\\GitHub\\AdventOfCode\\Day3 - input.txt\", header=None, index_col = False, names = [\"String\"])\n",
    "\n",
    "result.String = result.String * 150\n",
    "characters = len(result.values[0][0]) - 1\n",
    "rows = len(result.index) - 1\n",
    "\n",
    "print(characters)\n",
    "print(rows)"
   ]
  },
  {
   "cell_type": "code",
   "execution_count": 153,
   "metadata": {},
   "outputs": [
    {
     "name": "stdout",
     "output_type": "stream",
     "text": [
      "244\n"
     ]
    }
   ],
   "source": [
    "#Starting at the top-left corner of your map and following a slope of right 3 and down 1, how many trees would you encounter?\n",
    "\n",
    "iniChar = 0\n",
    "iniRow = 0\n",
    "i = 0\n",
    "j = 0\n",
    "count = 0\n",
    "\n",
    "while i <= characters and j <= rows:\n",
    "    evaluate = result.String[j]\n",
    "      \n",
    "    if evaluate[i] == \"#\":\n",
    "        count += 1\n",
    "\n",
    "    i += 3\n",
    "    j += 1\n",
    "    \n",
    "print(count)"
   ]
  },
  {
   "cell_type": "code",
   "execution_count": 154,
   "metadata": {},
   "outputs": [
    {
     "name": "stdout",
     "output_type": "stream",
     "text": [
      "323\n",
      "1615\n",
      "2261\n",
      "162\n",
      "90\n",
      "244\n",
      "97\n",
      "92\n",
      "48\n"
     ]
    }
   ],
   "source": [
    "#you start at the top-left corner and traverse the map all the way to the bottom:\n",
    "\n",
    "#What do you get if you multiply together the number of trees encountered on each of the listed slopes?\n",
    "\n",
    "ruleCount1 = 0\n",
    "ruleCount3 = 0\n",
    "ruleCount4 = 0\n",
    "ruleCount5 = 0\n",
    "\n",
    "#Right 1, down 1.\n",
    "\n",
    "iniChar = 0\n",
    "iniRow = 0\n",
    "i = 0\n",
    "j = 0\n",
    "\n",
    "while i <= characters and j <= rows:\n",
    "    evaluate = result.String[j]\n",
    "      \n",
    "    if evaluate[i] == \"#\":\n",
    "        ruleCount1 += 1\n",
    "\n",
    "    i += 1\n",
    "    j += 1\n",
    "\n",
    "print(i)\n",
    "\n",
    "#Right 5, down 1.\n",
    "\n",
    "iniChar = 0\n",
    "iniRow = 0\n",
    "i = 0\n",
    "j = 0\n",
    "\n",
    "while i <= characters and j <= rows:\n",
    "    evaluate = result.String[j]\n",
    "      \n",
    "    if evaluate[i] == \"#\":\n",
    "        ruleCount3 += 1\n",
    "\n",
    "    i += 5\n",
    "    j += 1\n",
    "    \n",
    "print(i)\n",
    "\n",
    "#Right 7, down 1.\n",
    "\n",
    "iniChar = 0\n",
    "iniRow = 0\n",
    "i = 0\n",
    "j = 0\n",
    "\n",
    "while i <= characters and j <= rows:\n",
    "    evaluate = result.String[j]\n",
    "      \n",
    "    if evaluate[i] == \"#\":\n",
    "        ruleCount4 += 1\n",
    "\n",
    "    i += 7\n",
    "    j += 1\n",
    "    \n",
    "print(i)\n",
    "\n",
    "#Right 1, down 2.\n",
    "\n",
    "iniChar = 0\n",
    "iniRow = 0\n",
    "i = 0\n",
    "j = 0\n",
    "\n",
    "while i <= characters and j <= rows:\n",
    "    evaluate = result.String[j]\n",
    "      \n",
    "    if evaluate[i] == \"#\":\n",
    "        ruleCount5 += 1\n",
    "\n",
    "    i += 1\n",
    "    j += 2\n",
    "\n",
    "print(i)\n",
    "\n",
    "print(ruleCount1)\n",
    "print(count)\n",
    "print(ruleCount3)\n",
    "print(ruleCount4)\n",
    "print(ruleCount5)"
   ]
  },
  {
   "cell_type": "code",
   "execution_count": null,
   "metadata": {},
   "outputs": [],
   "source": []
  }
 ],
 "metadata": {
  "kernelspec": {
   "display_name": "Python 3",
   "language": "python",
   "name": "python3"
  },
  "language_info": {
   "codemirror_mode": {
    "name": "ipython",
    "version": 3
   },
   "file_extension": ".py",
   "mimetype": "text/x-python",
   "name": "python",
   "nbconvert_exporter": "python",
   "pygments_lexer": "ipython3",
   "version": "3.8.3"
  }
 },
 "nbformat": 4,
 "nbformat_minor": 4
}

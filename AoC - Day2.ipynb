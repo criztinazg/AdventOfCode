{
 "cells": [
  {
   "cell_type": "code",
   "execution_count": 46,
   "metadata": {},
   "outputs": [],
   "source": [
    "import pandas as pd\n",
    "\n",
    "result = pd.read_csv(\"E:\\GitHub\\AdventOfCode\\Day2 - input.txt\", sep=\"\\s+\", header=None, index_col = False, names = [\"Rule\",\"Letter\",\"String\"])\n",
    "\n",
    "minRep = 0\n",
    "maxRep = 0\n",
    "letter = ''\n",
    "password = ''\n",
    "comply = 0"
   ]
  },
  {
   "cell_type": "code",
   "execution_count": 47,
   "metadata": {},
   "outputs": [],
   "source": [
    "#The password policy indicates the lowest and highest number of times a given letter must appear for the password to be valid\n",
    "comply = 0\n",
    "\n",
    "for i in result.values: \n",
    "    minRep = int(i[0].split('-', 2)[0])\n",
    "    maxRep = int(i[0].split('-', 2)[1])\n",
    "    letter = i[1].split(':', 2)[0]\n",
    "    password = i[2]\n",
    "    count = 0\n",
    "    \n",
    "    for c in password:\n",
    "        if c == letter: \n",
    "            count += 1\n",
    "        \n",
    "    if count >= minRep and count <= maxRep:\n",
    "        comply += 1"
   ]
  },
  {
   "cell_type": "code",
   "execution_count": 48,
   "metadata": {},
   "outputs": [
    {
     "data": {
      "text/plain": [
       "603"
      ]
     },
     "execution_count": 48,
     "metadata": {},
     "output_type": "execute_result"
    }
   ],
   "source": [
    "comply"
   ]
  },
  {
   "cell_type": "code",
   "execution_count": 54,
   "metadata": {},
   "outputs": [],
   "source": [
    "#Exactly one of these positions must contain the given letter. Other occurrences of the letter are irrelevant for the purposes of policy enforcement.\n",
    "comply = 0\n",
    "\n",
    "for i in result.values: \n",
    "    minRep = int(i[0].split('-', 2)[0])\n",
    "    maxRep = int(i[0].split('-', 2)[1])\n",
    "    letter = i[1].split(':', 2)[0]\n",
    "    password = i[2]\n",
    "    count = 0\n",
    "    \n",
    "    if password[minRep-1] == letter:\n",
    "        count += 1\n",
    "        \n",
    "    if password[maxRep-1] == letter:\n",
    "        count += 1\n",
    "           \n",
    "    if count == 1:\n",
    "        comply += 1"
   ]
  },
  {
   "cell_type": "code",
   "execution_count": 55,
   "metadata": {},
   "outputs": [
    {
     "data": {
      "text/plain": [
       "404"
      ]
     },
     "execution_count": 55,
     "metadata": {},
     "output_type": "execute_result"
    }
   ],
   "source": [
    "comply"
   ]
  }
 ],
 "metadata": {
  "kernelspec": {
   "display_name": "Python 3",
   "language": "python",
   "name": "python3"
  },
  "language_info": {
   "codemirror_mode": {
    "name": "ipython",
    "version": 3
   },
   "file_extension": ".py",
   "mimetype": "text/x-python",
   "name": "python",
   "nbconvert_exporter": "python",
   "pygments_lexer": "ipython3",
   "version": "3.8.3"
  }
 },
 "nbformat": 4,
 "nbformat_minor": 4
}
